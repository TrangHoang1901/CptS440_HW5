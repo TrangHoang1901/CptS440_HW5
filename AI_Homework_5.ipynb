{
  "nbformat": 4,
  "nbformat_minor": 0,
  "metadata": {
    "colab": {
      "provenance": [],
      "toc_visible": true,
      "include_colab_link": true
    },
    "kernelspec": {
      "name": "python3",
      "display_name": "Python 3"
    },
    "language_info": {
      "name": "python"
    }
  },
  "cells": [
    {
      "cell_type": "markdown",
      "metadata": {
        "id": "view-in-github",
        "colab_type": "text"
      },
      "source": [
        "<a href=\"https://colab.research.google.com/github/TrangHoang1901/CptS440_HW5/blob/main/AI_Homework_5.ipynb\" target=\"_parent\"><img src=\"https://colab.research.google.com/assets/colab-badge.svg\" alt=\"Open In Colab\"/></a>"
      ]
    },
    {
      "cell_type": "markdown",
      "source": [
        "# Group 5 Assignment:\n",
        "\n",
        "*   Member 1: Helen Hoang: 11691322\n",
        "*   Member 2: Harrison Greenlee: 11635888\n",
        "*   Member 3: Sierra Pine: 11761138 \n"
      ],
      "metadata": {
        "id": "CDayDMlojt95"
      }
    },
    {
      "cell_type": "markdown",
      "source": [
        "In this homework, we will practice implementing a number of search and inference algorithms that we have covered in class."
      ],
      "metadata": {
        "id": "5R2VYM8484tY"
      }
    },
    {
      "cell_type": "markdown",
      "source": [
        "**Problem 1 [BFS - 35 pt].** Given a directed acyclic graph **G = (V, E)** and a set of nodes **X**, implement a BFS procedure to find all the nodes which are ancestors of nodes in **X**. The input-output format and definition of this procedure is described below."
      ],
      "metadata": {
        "id": "TLxknv49jAwB"
      }
    },
    {
      "cell_type": "markdown",
      "source": [
        "**Input representation:**\n",
        "\n",
        "1. The graph is represented as a nested list **A** in which **A[$i$]** is a list of children of node $i$ where $i \\in [0, n-1]$. See the example below.\n",
        "\n"
      ],
      "metadata": {
        "id": "uDAPvPOJmzxE"
      }
    },
    {
      "cell_type": "code",
      "source": [
        "A = [[1], [2, 3], [3, 4], [], []]\n",
        "n = len(A)\n",
        "print(\"The total no. of nodes = {}\".format(n))\n",
        "for i in range(n):\n",
        "    print(\"Children of node {} = {}\".format(i, A[i]))"
      ],
      "metadata": {
        "id": "mBHqeatWm0zc",
        "colab": {
          "base_uri": "https://localhost:8080/"
        },
        "outputId": "775aa0bb-3772-49b4-8f4a-41ce7fe943ae"
      },
      "execution_count": 104,
      "outputs": [
        {
          "output_type": "stream",
          "name": "stdout",
          "text": [
            "The total no. of nodes = 5\n",
            "Children of node 0 = [1]\n",
            "Children of node 1 = [2, 3]\n",
            "Children of node 2 = [3, 4]\n",
            "Children of node 3 = []\n",
            "Children of node 4 = []\n"
          ]
        }
      ]
    },
    {
      "cell_type": "markdown",
      "source": [
        "2. The set of nodes **X** is represented as a non-empty list X containing (non-duplicate) numbers within $[0, n]$"
      ],
      "metadata": {
        "id": "WUx45GBXm3a1"
      }
    },
    {
      "cell_type": "code",
      "source": [
        "X = [2, 4]"
      ],
      "metadata": {
        "id": "AljR5EVCm9SU"
      },
      "execution_count": 105,
      "outputs": []
    },
    {
      "cell_type": "code",
      "source": [
        "from typing import List\n",
        "def ancestor(A : List, X : List) -> List:\n",
        "  pass"
      ],
      "metadata": {
        "id": "rL41GqBn-mLc"
      },
      "execution_count": 106,
      "outputs": []
    },
    {
      "cell_type": "markdown",
      "source": [
        "**Output definition and representation:**\n",
        "\n",
        "1. The ancestors of **X** are nodes whose can reach nodes in **X** using the directed edges of the graph. The ancestors of **X** also includes nodes in **X** themselves. For example, ancestor([1, 2]) = [0, 1, 2], ancestor([4]) = [0,1,2,4].\n",
        "\n",
        "2. Our task is to write a BFS search function that return the list of ancestors of nodes in **X** given the graph G represented with **A** above. The function definition is given below."
      ],
      "metadata": {
        "id": "Hr417ny4m_T8"
      }
    },
    {
      "cell_type": "code",
      "source": [
        "from typing import List\n",
        "\n",
        "def ancestor(A : List, X : List) -> List:\n",
        "  parent_tree = [[] for _ in range(len(A))]\n",
        "  for n, children in enumerate(A):\n",
        "    for child in children:\n",
        "      parent_tree[child].append(n)\n",
        "  print(parent_tree)\n",
        "  \n",
        "  ancestors = set(X)\n",
        "  while True:\n",
        "    new_ancestors = ancestors.copy()\n",
        "    for ancestor in ancestors:\n",
        "      print(parent_tree[ancestor])\n",
        "      new_ancestors.update(parent_tree[ancestor])\n",
        "    \n",
        "    if ancestors == new_ancestors:\n",
        "      # terminate when no new nodes are added\n",
        "      return list(ancestors)\n",
        "    ancestors = new_ancestors\n",
        "\n",
        "    "
      ],
      "metadata": {
        "id": "lBBf1AzEnCL0"
      },
      "execution_count": 107,
      "outputs": []
    },
    {
      "cell_type": "code",
      "source": [
        "ancestor(A, [1])"
      ],
      "metadata": {
        "colab": {
          "base_uri": "https://localhost:8080/"
        },
        "id": "F8tOi12mB7nI",
        "outputId": "6243ebdf-66c5-44f8-be09-280995d63850"
      },
      "execution_count": 108,
      "outputs": [
        {
          "output_type": "stream",
          "name": "stdout",
          "text": [
            "[[], [0], [1], [1, 2], [2]]\n",
            "[0]\n",
            "[]\n",
            "[0]\n"
          ]
        },
        {
          "output_type": "execute_result",
          "data": {
            "text/plain": [
              "[0, 1]"
            ]
          },
          "metadata": {},
          "execution_count": 108
        }
      ]
    },
    {
      "cell_type": "markdown",
      "source": [
        "**How we grade this question:**\n",
        "\n",
        "1. You are expected to substantiate the above **ancestor** function without changing its input and output definition. \n",
        "\n",
        "2. You will not be graded if you change the input-output definition or name of **ancestor**\n",
        "\n",
        "3. The rest of the code skeleton is for reference only. You can follow, adapt or remove it completely as long as the function **ancestor** produces the expected answer. \n",
        "\n",
        "4. Your substantiated **ancestor** function will be called by the TA to produce answer to a number of test cases. Your grade is computed based on how many cases your code answers correctly.\n",
        "\n",
        "5. Substantiating the suggested code skeleton does not necessarily guarantee you any partial credit if your **ancestor** function crashes, does not produce correct answer or fails to do so within the time limit of maximum 5 seconds per test case.\n",
        "\n",
        "6. You should test your code thoroughly and carefully before submitting it to make sure it will not crash and at least produce correct answers for your own test cases.\n",
        "\n",
        "**Note that:**\n",
        "\n",
        "The ancestors of **X** (by definition) include **X**, parents of **X** and grandparents of **X** and grand-grandparents of **X** and so on. This should give you an idea of what should be the candidates to be generated for each node."
      ],
      "metadata": {
        "id": "g4nWvzLnturN"
      }
    },
    {
      "cell_type": "code",
      "source": [
        "import unittest\n",
        "\n",
        "class TestProblem1(unittest.TestCase):\n",
        "    \n",
        "    def test_empty_graph_and_ancestors(self):\n",
        "        self.assertEqual(ancestor([],[]), [])\n",
        "\n",
        "    def test_empty_ancestors(self):\n",
        "        self.assertEqual(ancestor([[1,2,3,4],[],[],[],[]], []), [])\n",
        "\n",
        "    def test_ancestor_chain(self):\n",
        "        self.assertEqual(ancestor([[],[2],[3],[4],[5],[]], [5]), [1,2,3,4,5])\n",
        "\n",
        "    def test_4(self):\n",
        "        self.assertEqual(ancestor([[1], [2], [3], [4], [], []], [4]), [0,1,2,3,4])\n",
        "\n",
        "    def test_5(self):\n",
        "        self.assertEqual(ancestor([[1], [2], [3], [], [1], [2,4]], [4]), [4, 5])\n",
        "        \n",
        "    def test_6(self):\n",
        "        self.assertEqual(ancestor([[1,2,3], [4,7], [4,5], [6], [], [], [7,8], [9,10,11], \n",
        "                                   [12,13], [], [12], [], [14], [], []], [12,5]), \n",
        "                                      [0,1,2,3,5,6,7,8,10,12])\n",
        "\n",
        "suite = unittest.TestLoader().loadTestsFromTestCase(TestProblem1)\n",
        "unittest.TextTestRunner(verbosity=2).run(suite)"
      ],
      "metadata": {
        "colab": {
          "base_uri": "https://localhost:8080/"
        },
        "id": "tFglbvDfMM01",
        "outputId": "2e2bf95b-bfc3-4c45-feae-744586d331be"
      },
      "execution_count": 109,
      "outputs": [
        {
          "output_type": "stream",
          "name": "stderr",
          "text": [
            "test_4 (__main__.TestProblem1) ... ok\n",
            "test_5 (__main__.TestProblem1) ... ok\n",
            "test_6 (__main__.TestProblem1) ... ok\n",
            "test_ancestor_chain (__main__.TestProblem1) ... ok\n",
            "test_empty_ancestors (__main__.TestProblem1) ... ok\n",
            "test_empty_graph_and_ancestors (__main__.TestProblem1) ... ok\n",
            "\n",
            "----------------------------------------------------------------------\n",
            "Ran 6 tests in 0.030s\n",
            "\n",
            "OK\n"
          ]
        },
        {
          "output_type": "stream",
          "name": "stdout",
          "text": [
            "[[], [0], [1], [2], [3], []]\n",
            "[3]\n",
            "[2]\n",
            "[3]\n",
            "[1]\n",
            "[2]\n",
            "[3]\n",
            "[0]\n",
            "[1]\n",
            "[2]\n",
            "[3]\n",
            "[]\n",
            "[0]\n",
            "[1]\n",
            "[2]\n",
            "[3]\n",
            "[[], [0, 4], [1, 5], [2], [5], []]\n",
            "[5]\n",
            "[5]\n",
            "[]\n",
            "[[], [0], [0], [0], [1, 2], [2], [3], [1, 6], [6], [7], [7], [7], [8, 10], [8], [12]]\n",
            "[8, 10]\n",
            "[2]\n",
            "[0]\n",
            "[2]\n",
            "[6]\n",
            "[7]\n",
            "[8, 10]\n",
            "[]\n",
            "[0]\n",
            "[2]\n",
            "[3]\n",
            "[1, 6]\n",
            "[6]\n",
            "[7]\n",
            "[8, 10]\n",
            "[]\n",
            "[0]\n",
            "[0]\n",
            "[0]\n",
            "[2]\n",
            "[3]\n",
            "[1, 6]\n",
            "[6]\n",
            "[7]\n",
            "[8, 10]\n",
            "[[], [], [1], [2], [3], [4]]\n",
            "[4]\n",
            "[3]\n",
            "[4]\n",
            "[2]\n",
            "[3]\n",
            "[4]\n",
            "[1]\n",
            "[2]\n",
            "[3]\n",
            "[4]\n",
            "[]\n",
            "[1]\n",
            "[2]\n",
            "[3]\n",
            "[4]\n",
            "[[], [0], [0], [0], [0]]\n",
            "[]\n"
          ]
        },
        {
          "output_type": "execute_result",
          "data": {
            "text/plain": [
              "<unittest.runner.TextTestResult run=6 errors=0 failures=0>"
            ]
          },
          "metadata": {},
          "execution_count": 109
        }
      ]
    },
    {
      "cell_type": "markdown",
      "source": [
        "\n",
        "\n",
        "---\n",
        "\n"
      ],
      "metadata": {
        "id": "7sKtBamb1bLe"
      }
    },
    {
      "cell_type": "markdown",
      "source": [
        "**Problem 2 [DFS - 15pt]**. Given a directed graph in the same format as describe above. \n",
        "\n",
        "Write a program that check whether the graph is acyclic (i.e., it contains no cycle)."
      ],
      "metadata": {
        "id": "wpKuOndXxUMD"
      }
    },
    {
      "cell_type": "code",
      "source": [
        "from typing import List, Set\n",
        "\n",
        "def cyclic_check(A: List) -> bool:\n",
        "  verticies = set(range(len(A)))\n",
        "  perm_marked = set()\n",
        "  temp_marked = set()\n",
        "  while bool(unvisited := verticies - perm_marked):\n",
        "    if visit(A, perm_marked, temp_marked, unvisited.pop()):\n",
        "      return True\n",
        "  return False\n",
        "\n",
        "def visit(A: List, perm_marked: Set, temp_marked:Set, n: int):\n",
        "  if n in perm_marked:\n",
        "    return False\n",
        "  if n in temp_marked:\n",
        "    return True\n",
        "  \n",
        "  temp_marked.add(n)\n",
        "\n",
        "  if any(visit(A, perm_marked, temp_marked, m) for m in A[n]):\n",
        "    return True\n",
        "\n",
        "  perm_marked.add(n)\n",
        "  temp_marked.remove(n)"
      ],
      "metadata": {
        "id": "53ee4w_7xeWz"
      },
      "execution_count": 110,
      "outputs": []
    },
    {
      "cell_type": "markdown",
      "source": [
        "Example of a graph that contains cycle:"
      ],
      "metadata": {
        "id": "rqOZpryvyc9A"
      }
    },
    {
      "cell_type": "code",
      "source": [
        "A = [[1, 3], [4], [1], [4], [5], [2]]"
      ],
      "metadata": {
        "id": "QvaJP4chygA_"
      },
      "execution_count": null,
      "outputs": []
    },
    {
      "cell_type": "code",
      "source": [
        "cyclic_check(A)"
      ],
      "metadata": {
        "colab": {
          "base_uri": "https://localhost:8080/"
        },
        "id": "VMuKD1G_EYkH",
        "outputId": "fadb9830-6109-4704-afcd-ad2b19ee11c1"
      },
      "execution_count": null,
      "outputs": [
        {
          "output_type": "execute_result",
          "data": {
            "text/plain": [
              "True"
            ]
          },
          "metadata": {},
          "execution_count": 97
        }
      ]
    },
    {
      "cell_type": "markdown",
      "source": [
        "Thus, **cyclic_check**(A) should return True in this case."
      ],
      "metadata": {
        "id": "zihFEQJn1S8A"
      }
    },
    {
      "cell_type": "markdown",
      "source": [
        "**How we grade this question:**\n",
        "\n",
        "1. You are expected to substantiate the above **cyclic_check** function without changing its input and output definition. \n",
        "\n",
        "2. You will not be graded if you change the input-output definition or name of **cyclic_check**\n",
        "\n",
        "3. Your substantiated **cyclic_check** function will be called by the TA to produce answers to a number of test cases. Your grade is computed based on how many cases your code answers correctly.\n",
        "\n",
        "4. Substantiating the code does not necessarily guarantee you any partial credit if your **cyclic_check** function crashes, does not produce correct answer or fails to do so within the time limit of maximum 5 seconds per test case.\n",
        "\n",
        "5. You should test your code thoroughly and carefully before submitting it to make sure it will not crash and at least produce correct answers for your own test cases.\n",
        "\n",
        "**Hint:**\n",
        "\n",
        "A directed graph contains a cycle if the DFS search sees a node that has been explored but not all of its descendants have been explored."
      ],
      "metadata": {
        "id": "6uDVCuV7yzud"
      }
    },
    {
      "cell_type": "code",
      "source": [
        "import unittest\n",
        "\n",
        "class TestProblem2(unittest.TestCase):\n",
        "  def test_empty_graph(self):\n",
        "    self.assertEqual(cyclic_check([]), False)\n",
        "\n",
        "  def test_self_cycle(self):\n",
        "    self.assertEqual(cyclic_check([[0]]), True)\n",
        "\n",
        "  def test_ancestor_chain_loop(self):\n",
        "    self.assertEqual(cyclic_check([[1],[2],[3],[4],[5],[0]]), True)\n",
        "\n",
        "  def test_4(self):\n",
        "      self.assertEqual(cyclic_check([[0],[1],[2],[3],[4],[5],[6],[7],[8],[9]]), True)\n",
        "\n",
        "  def test_5(self):\n",
        "      self.assertEqual(cyclic_check([[0,1],[1,2],[2,3],[3,4],[4,0],[1,4]]), True)\n",
        "\n",
        "  def test_6(self):\n",
        "      self.assertEqual(cyclic_check([[0,1],[0,2],[1,3],[1,4],[2,4],[4,5]]), True)\n",
        "\n",
        "  def test_7(self):\n",
        "    self.assertEqual(cyclic_check([[1],[2, 3, 4],[], [], []]), False)\n",
        "\n",
        "  def test_8(self):\n",
        "    self.assertEqual(cyclic_check([[1],[2, 3],[], [], [1]]), False)\n",
        "\n",
        "  def test_9(self):\n",
        "    self.assertEqual(cyclic_check([[1],[2, 3],[4], [], [4]]), True)\n",
        "\n",
        "suite = unittest.TestLoader().loadTestsFromTestCase(TestProblem2)\n",
        "unittest.TextTestRunner(verbosity=2).run(suite)"
      ],
      "metadata": {
        "colab": {
          "base_uri": "https://localhost:8080/"
        },
        "id": "AsVRCZo4N8Sm",
        "outputId": "5463a305-8a7f-4314-a65f-c6d235ed2cd8"
      },
      "execution_count": 111,
      "outputs": [
        {
          "output_type": "stream",
          "name": "stderr",
          "text": [
            "test_4 (__main__.TestProblem2) ... ok\n",
            "test_5 (__main__.TestProblem2) ... ok\n",
            "test_6 (__main__.TestProblem2) ... ok\n",
            "test_7 (__main__.TestProblem2) ... ok\n",
            "test_8 (__main__.TestProblem2) ... ok\n",
            "test_9 (__main__.TestProblem2) ... ok\n",
            "test_ancestor_chain_loop (__main__.TestProblem2) ... ok\n",
            "test_empty_graph (__main__.TestProblem2) ... ok\n",
            "test_self_cycle (__main__.TestProblem2) ... ok\n",
            "\n",
            "----------------------------------------------------------------------\n",
            "Ran 9 tests in 0.023s\n",
            "\n",
            "OK\n"
          ]
        },
        {
          "output_type": "execute_result",
          "data": {
            "text/plain": [
              "<unittest.runner.TextTestResult run=9 errors=0 failures=0>"
            ]
          },
          "metadata": {},
          "execution_count": 111
        }
      ]
    },
    {
      "cell_type": "markdown",
      "source": [
        "\n",
        "\n",
        "---\n",
        "\n"
      ],
      "metadata": {
        "id": "AA1zQ5-l1hG2"
      }
    },
    {
      "cell_type": "markdown",
      "source": [
        "**Problem 3 [Bayes Ball Algorithm - 25pt].** Implement the Bayes Ball algorithm which finds in a directed acyclic graph G all variables **Z** that are independent of a set of source variables **X** given the evidence nodes **E**.\n",
        "\n",
        "The graph G is represented using the nested list **A** as detailed above. \n",
        "\n",
        "**X**, **E** and **Z** are lists of nodes which are indexed from $0$ to $n - 1$. The function template is defined below. You can assume that **X**, **E** and **Z** are always non-overlapping."
      ],
      "metadata": {
        "id": "XnNn4Tks0CrK"
      }
    },
    {
      "cell_type": "markdown",
      "source": [
        "Here is an example:"
      ],
      "metadata": {
        "id": "d981Ks1M0J5i"
      }
    },
    {
      "cell_type": "code",
      "source": [
        "A = [[1, 3], [4], [1], [4], [5], []]\n",
        "X, E = [3], [0]"
      ],
      "metadata": {
        "id": "7DXp-g_n0MSJ"
      },
      "execution_count": 112,
      "outputs": []
    },
    {
      "cell_type": "markdown",
      "source": [
        "In the above example, **X** = [3] is independent with each node in **Z** = [1, 2] given **E** = [0]. Thus, the substantiated function bayes_ball(A, [3], [0]) is expected to return [1,2] -- the order of nodes within the returned list does not matter."
      ],
      "metadata": {
        "id": "R_tCteZD0Pty"
      }
    },
    {
      "cell_type": "code",
      "source": [
        "### THIS CELL IS A (VERY SLIGHTLY) MODIFIED VERSION OF THE FUNCTION PROVIDED BY THE PROFESSOR\n",
        "### IT IS NOT DONE - I DECIDED TO WRITE MY OWN VERSION WITHOUT A TEMPLATE\n",
        "### SEE THE CELL BELOW\n",
        "\n",
        "# def bayes_ball(A : List, X : List, E : List) -> List :\n",
        "#     ans = set(ancestor(A, E))  # create ancestor of E\n",
        "#     frontier, explored = [], set([])  # initialize frontier and explored tables\n",
        "    \n",
        "#     reachable = set([])\n",
        "#     E = set(E)\n",
        "\n",
        "#     # # #\n",
        "#     # insert code here to initialize frontier, explored\n",
        "#     # for each node in A\n",
        "#     for i in range(len(A)):\n",
        "#       if i in X or i in E:\n",
        "#         # if it is in the source nodes or evidence nodes then it will be upstream from a child\n",
        "#         frontier.append((i, 0))\n",
        "#       else:\n",
        "#         frontier.append((i, 1))\n",
        "#     # # #\n",
        "\n",
        "#     while len(frontier) > 0:\n",
        "#         node, direction = frontier[0]\n",
        "#         # mark j as visited\n",
        "#         frontier.pop(0)\n",
        "#         reachable.add(node)\n",
        "\n",
        "#         if node in E:  # if this node is observed\n",
        "#             if direction == 0:  # if it is reached by moving upstream from a child (direction = from-child)\n",
        "#                 pass  # remove this and substantiate code (generate candidates, update frontier/explored/reachable)\n",
        "\n",
        "#             else:  # if direction = from-parent        \n",
        "#                 pass  # remove this and substantiate code (generate candidates, update frontier/explored/reachable)\n",
        "\n",
        "#         else:  # if this node is unobserved\n",
        "#             if direction == 0:  # if it is reached by moving upstream from a child (direction = from-child)\n",
        "#                 pass  # remove this and substantiate code (generate candidates, update frontier/explored/reachable)\n",
        "#             else:\n",
        "#                 pass  # remove this and substantiate code (generate candidates, update frontier/explored/reachable)\n",
        "        \n",
        "#     # # #\n",
        "#     # insert code here to compute unreachable nodes given the reachable list above\n",
        "#     # # #\n",
        "\n",
        "#     return None  # replace None with the set of unreachable nodes computed above"
      ],
      "metadata": {
        "id": "1OM5KlKE2N38"
      },
      "execution_count": null,
      "outputs": []
    },
    {
      "cell_type": "code",
      "source": [
        "### THIS IS MY SECOND ATTEMPT BUT IT HAD SOME BUGS THAT I COULDN'T FIGURE OUT\n",
        "### SO I RE-WROTE THE WHOLE THING AGAIN WITH A DIFFERENT ALG\n",
        "### SEE THE CELL BELOW\n",
        "\n",
        "# from typing import List\n",
        "\n",
        "# # Based on the paper by Shachter\n",
        "# # https://arxiv.org/ftp/arxiv/papers/1301/1301.7412.pdf\n",
        "# def bayes_ball(A : List, X : List, E : List) -> List:\n",
        "#   \"\"\"\n",
        "#   Implements the Bayes Ball algorithm which finds in a directed acyclic graph A all variables Z that are independent of a set of source variables X given the evidence nodes E.\n",
        "#   :param A: The structure of the graph, represented as a list. Each index represents a node and the items in that index represent children of that node.\n",
        "#   :param X: The list of source variables.\n",
        "#   :param E: The list of evidence nodes.\n",
        "#   :return: A list of unreachable nodes determined by the Bayes Ball algorithm.\n",
        "#   \"\"\"\n",
        "#   parent_tree = [[] for _ in range(len(A))]\n",
        "#   for n, children in enumerate(A):\n",
        "#     for child in children:\n",
        "#       parent_tree[child].append(n)\n",
        "\n",
        "#   # Initialize all nodes as neither visited, nor marked on the top, nor marked on the bottom. \n",
        "#   visited = [False for _ in range(len(A))]\n",
        "#   marked_top = [False for _ in range(len(A))]\n",
        "#   marked_bottom = [False for _ in range(len(A))]\n",
        "#   # Create a schedule of nodes to be visited, initialized with each node in J to be visited as if from one of its children.\n",
        "#   schedule = [child for x in X for child in A[x]] # TODO fix this bug\n",
        "\n",
        "#   # While there are still nodes scheduled to be visited:\n",
        "#   print(schedule) # debug print TODO\n",
        "#   while schedule:\n",
        "#     # Pick any node j scheduled to be visited and remove it from the schedule. Either j was scheduled for a visit from a parent, a visit from a child, or both.\n",
        "#     j = schedule.pop()\n",
        "#     # Mark j as visited.\n",
        "#     visited[j] = True\n",
        "#     # If j ∉ K and the visit to j is from a child:\n",
        "#     if not j in X and not j in E:\n",
        "#       # if the top of j is not marked, then mark its top and schedule each of its parents to be visited;\n",
        "#       if not marked_top[j]:\n",
        "#         marked_top[j] = True\n",
        "#         for parent in parent_tree[j]:\n",
        "#           schedule.append(parent)\n",
        "#       # if j ∉ F and the bottom of j is not marked, then mark its bottom and schedule each of its children to be visited.\n",
        "#       if not j in X and not marked_bottom[j]:\n",
        "#         marked_bottom[j] = True\n",
        "#         for child in A[j]:\n",
        "#           schedule.append(child)\n",
        "#     # If the visit to j is from a parent:\n",
        "#     else:\n",
        "#       # if j ∈ K and the top of j is not marked, then mark its top and schedule each of its parents to be visited;\n",
        "#       if j not in E and not marked_top[j]:\n",
        "#         marked_top[j] = True\n",
        "#         for parent in parent_tree[j]:\n",
        "#           schedule.append(parent)\n",
        "#       # if j ∉ K and the bottom of j is not marked, then mark its bottom and schedule each of its children to be visited.\n",
        "#       if j not in E and not marked_bottom[j]:\n",
        "#         for child in A[j]:\n",
        "#           schedule.append(child)\n",
        "\n",
        "#   # The requisite observation nodes, Ne(JIK), are those nodes in K marked as visited.\n",
        "#   # In our case we want to return the set of nodes that are NOT visited.\n",
        "#   return [i for i in range(len(A)) if not visited[i]]\n",
        "\n"
      ],
      "metadata": {
        "id": "ALCMMnR1kKWo"
      },
      "execution_count": null,
      "outputs": []
    },
    {
      "cell_type": "code",
      "source": [
        "from typing import List\n",
        "\n",
        "# From Probabilistic Graphical Models: Principles and Techniques\n",
        "# Algorithm 3.1 Algorithm for finding nodes reachable from X given Z via active trails\n",
        "# http://mcb111.org/w06/KollerFriedman.pdf\n",
        "def bayes_ball(A : List, X : List, E : List) -> List:\n",
        "  \"\"\"\n",
        "  Implements the Bayes Ball algorithm which finds in a directed acyclic graph A all variables Z that are independent of a set of source variables X given the evidence nodes E.\n",
        "  :param A: The structure of the graph, represented as a list. Each index represents a node and the items in that index represent children of that node.\n",
        "  :param X: The list of source variables.\n",
        "  :param E: The list of evidence nodes.\n",
        "  :return: A list of unreachable nodes determined by the Bayes Ball algorithm.\n",
        "  \"\"\"\n",
        "  # We need to rename some stuff to allign with their algorithm\n",
        "  # Most notably, A should be a list of ancestors and not the graph structure\n",
        "  # G, // Bayesian network graph\n",
        "  G = A\n",
        "  # X, // Source variable\n",
        "  X = set(X)\n",
        "  # Z // Observations\n",
        "  Z = set(E)\n",
        "  \n",
        "  # Get parents for each node\n",
        "  P = [[] for _ in range(len(G))]\n",
        "  for n, children in enumerate(G):\n",
        "    for child in children:\n",
        "      P[child].append(n)\n",
        "\n",
        "  # // Phase I - insert all ancestors of Z into A\n",
        "  L = Z.copy()  # L ← Z // Nodes to be visited\n",
        "  A = set()  # A ← ∅ // Ancestors of Z\n",
        "  while L:  # While L != ∅\n",
        "    # Select some Y from L\n",
        "    # L <- L - {Y}\n",
        "    Y = L.pop()\n",
        "    if not Y in A:  #  if Y ∉ A then\n",
        "      # L <- L ∪ Pay  // Y's parents need to be visited\n",
        "      L.update(P[Y])\n",
        "      # A <- A ∪ {Y}  // Y is ancestor of evidence\n",
        "      A.add(Y)\n",
        "\n",
        "  # Phase II: traverse active trails starting from X\n",
        "  # L ← {(X, ↑)} // (Node,direction) to be visited\n",
        "  L = set([(x, \"↑\") for x in X])\n",
        "  # V ← ∅ // (Node,direction) marked as visited\n",
        "  V = set()\n",
        "  # R ← ∅ // Nodes reachable via active trail\n",
        "  R = set()\n",
        "  # while L != ∅\n",
        "  while L:\n",
        "    # Select some (Y, d) from L\n",
        "    # L ← L − {(Y, d)}\n",
        "    Y, d = L.pop()\n",
        "    # if (Y, d) ∉ V then\n",
        "    if (Y, d) not in V:\n",
        "      # if Y ∉ Z then\n",
        "      if not Y in Z:\n",
        "        # R ← R ∪ {Y} // Y is reachable\n",
        "        R.add(Y)\n",
        "      # V ← V ∪ {(Y, d)} // Mark (Y, d) as visited\n",
        "      V.add((Y, d))\n",
        "      # if d =↑ and Y ∉ Z then // Trail up through Y active if Y not in Z\n",
        "      if d == \"↑\" and not Y in Z:\n",
        "        # for each Z ∈ Pay\n",
        "        for z in Z.intersection(P[Y]):\n",
        "          # L ← L ∪ {(Z, ↑)} // Y ’s parents to be visited from bottom\n",
        "          L.add((z, \"↑\"))\n",
        "        # for each Z ∈ ChY\n",
        "        for z in Z.intersection(G[Y]):\n",
        "          # L ← L ∪ {(Z, ↓)} // Y ’s children to be visited from top\n",
        "          L.add((z, \"↓\"))\n",
        "      # else if d =↓ then // Trails down through Y\n",
        "      elif d == \"↓\":\n",
        "        # if Y ∉ Z then\n",
        "        if not Y in Z:\n",
        "          # // Downward trails to Y ’s children are active\n",
        "          # for each Z ∈ Chy\n",
        "          for z in Z.intersection(G[Y]):\n",
        "            # L ← L∪{(Z, ↓)} // Y ’s children to be visited from top\n",
        "            L.add((z, \"↓\"))\n",
        "        # if Y ∈ A then // v-structure trails are active\n",
        "        if Y in A:\n",
        "          # for each Z ∈ Pay\n",
        "          for z in Z.intersection(P[Y]):\n",
        "            # L ← L∪{(Z, ↑)}\n",
        "            L.add((z, \"↑\"))\n",
        "  # return R\n",
        "  # Except in our case we want to return the nodes that are not reachable\n",
        "  return [n for n in range(len(G)) if (not n in R)]"
      ],
      "metadata": {
        "id": "h1whR3-8IvTc"
      },
      "execution_count": 116,
      "outputs": []
    },
    {
      "cell_type": "code",
      "source": [
        "from typing import List\n",
        "\n",
        "def bayes_ball(A : List, X : List, E : List) -> List:\n",
        "  \"\"\"\n",
        "  Implements the Bayes Ball algorithm which finds in a directed acyclic graph A all variables Z that are independent of a set of source variables X given the evidence nodes E.\n",
        "  :param A: The structure of the graph, represented as a list. Each index represents a node and the items in that index represent children of that node.\n",
        "  :param X: The list of source variables.\n",
        "  :param E: The list of evidence nodes.\n",
        "  :return: A list of unreachable nodes determined by the Bayes Ball algorithm.\n",
        "  \"\"\"\n",
        "  ancestors = set(ancestor(A, E))\n",
        "  frontier = set()\n",
        "  explored = set()\n",
        "  reachable = set()\n",
        "  E = set(E)\n",
        "\n",
        "  # Get parents for each node by inverting the tree connections\n",
        "  parents = [[] for _ in range(len(A))]\n",
        "  for n, children in enumerate(A):\n",
        "    for child in children:\n",
        "      parents[child].append(n)\n",
        "\n",
        "  for node in X:\n",
        "    frontier.add((node, \"↑\"))\n",
        "    explored.add((node, \"↑\"))\n",
        "    reachable.add(node)\n",
        "\n",
        "  while frontier:\n",
        "    node, direction = frontier.pop()\n",
        "    reachable.add(node)\n",
        "\n",
        "    if node in E:\n",
        "      if direction == \"↑\":\n",
        "        continue\n",
        "      else:\n",
        "        for parent in parents[node]:\n",
        "          if not (parent, \"↑\") in explored:\n",
        "            frontier.add((parent, \"↑\"))\n",
        "    else:\n",
        "      if direction == \"↑\":\n",
        "        for parent in parents[node]:\n",
        "          if not (parent, \"↑\") in explored:\n",
        "            frontier.add((parent, \"↑\"))\n",
        "\n",
        "        for child in A[node]:\n",
        "          if (child, \"↓\") not in explored:\n",
        "            frontier.add((child, \"↓\"))\n",
        "\n",
        "      else:\n",
        "        for child in A[node]:\n",
        "          if (child, \"↓\") not in explored:\n",
        "            frontier.add((child, \"↓\"))\n",
        "        if node in ancestors:\n",
        "          for parent in parents[node]:\n",
        "            if not (parent, \"↑\") in explored:\n",
        "              frontier.add((parent, \"↑\"))\n",
        "\n",
        "  return [node for node in A if node not in reachable]"
      ],
      "metadata": {
        "id": "VKPA4Nq-Htxa"
      },
      "execution_count": 114,
      "outputs": []
    },
    {
      "cell_type": "code",
      "source": [
        "# should return [1,2]\n",
        "# instead returns [0, 1, 2, 4, 5]\n",
        "bayes_ball(A=[[1, 3], [4], [1], [4], [5], []], X=[3], E=[0])"
      ],
      "metadata": {
        "id": "xhCsKDV6vHvg",
        "colab": {
          "base_uri": "https://localhost:8080/"
        },
        "outputId": "7d06d6a7-d9ee-447c-c2f0-b2fa90b56461"
      },
      "execution_count": 117,
      "outputs": [
        {
          "output_type": "execute_result",
          "data": {
            "text/plain": [
              "[0, 1, 2, 4, 5]"
            ]
          },
          "metadata": {},
          "execution_count": 117
        }
      ]
    },
    {
      "cell_type": "code",
      "source": [
        "# more unexpected behavior:\n",
        "# returns [0, 1, 3]\n",
        "bayes_ball(A=[[1], [2], [3], []], X=[2], E=[0])"
      ],
      "metadata": {
        "colab": {
          "base_uri": "https://localhost:8080/"
        },
        "id": "bveyFNTKdwcA",
        "outputId": "17b847e3-2dd1-49fe-fca9-f0a33dd1a101"
      },
      "execution_count": 118,
      "outputs": [
        {
          "output_type": "execute_result",
          "data": {
            "text/plain": [
              "[0, 1, 3]"
            ]
          },
          "metadata": {},
          "execution_count": 118
        }
      ]
    },
    {
      "cell_type": "code",
      "source": [
        "import unittest\n",
        "\n",
        "class TestProblem3(unittest.TestCase):\n",
        "  # I will add some more tests here soon\n",
        "  # I think there is a bug somewhere, working on finding it + ironing it out.\n",
        "\n",
        "  # This one is a bit tricky so be sure to draw out the graph and run the algorithm by hand before adding a test case.\n",
        "  # Also remember the function returns the list of nodes NOT reachable.\n",
        "\n",
        "  # A brief note about assertCountEqual - the name is very misleading\n",
        "  # The docs state the following:\n",
        "  # \"Test that sequence first contains the same elements as second, regardless of their order.\"\n",
        "  # I have no idea why they named it assertCountEqual... :/\n",
        "\n",
        "  def test_1(self):\n",
        "    pass\n",
        "\n",
        "suite = unittest.TestLoader().loadTestsFromTestCase(TestProblem3)\n",
        "unittest.TextTestRunner(verbosity=2).run(suite)"
      ],
      "metadata": {
        "colab": {
          "base_uri": "https://localhost:8080/"
        },
        "id": "DLtdxXOj4Gdx",
        "outputId": "7ca5cf0d-c2ce-450a-85de-15dc507a49a0"
      },
      "execution_count": null,
      "outputs": [
        {
          "output_type": "stream",
          "name": "stderr",
          "text": [
            "test_1 (__main__.TestProblem3) ... ok\n",
            "\n",
            "----------------------------------------------------------------------\n",
            "Ran 1 test in 0.006s\n",
            "\n",
            "OK\n"
          ]
        },
        {
          "output_type": "execute_result",
          "data": {
            "text/plain": [
              "<unittest.runner.TextTestResult run=1 errors=0 failures=0>"
            ]
          },
          "metadata": {},
          "execution_count": 88
        }
      ]
    },
    {
      "cell_type": "code",
      "source": [],
      "metadata": {
        "id": "qsuasTkB99T8"
      },
      "execution_count": null,
      "outputs": []
    },
    {
      "cell_type": "markdown",
      "source": [
        "**How we grade this question:**\n",
        "\n",
        "1. You are expected to substantiate the above **bayes_ball** function without changing its input and output definition. \n",
        "\n",
        "2. You will not be graded if you change the input-output definition or name of **bayes_ball**\n",
        "\n",
        "3. Your substantiated **bayes_ball** function will be called by the TA to produce answers to a number of test cases. Your grade is computed based on how many cases your code answers correctly.\n",
        "\n",
        "4. Substantiating the code does not necessarily guarantee you any partial credit if your **bayes_ball** function crashes, does not produce correct answer or fails to do so within the time limit of maximum 5 seconds per test case.\n",
        "\n",
        "5. You should test your code thoroughly and carefully before submitting it to make sure it will not crash and at least produce correct answers for your own test cases."
      ],
      "metadata": {
        "id": "nuXEM_SS34EY"
      }
    },
    {
      "cell_type": "markdown",
      "source": [
        "\n",
        "\n",
        "---\n",
        "\n"
      ],
      "metadata": {
        "id": "4KtwGMpfXR_c"
      }
    },
    {
      "cell_type": "markdown",
      "source": [
        "**Problem 4 [Probabilistic Reasoning -- 25pt].** Let $S_0, S_1, \\ldots, S_{n-1}$ and variables $X_0, X_1, \\ldots, X_{m-1}$ be the two sets of binary random variables such that $X_a \\perp X_b \\mid S_0, S_1, \\ldots, S_{n-1}$ for every pair $(a, b)$. \n",
        "\n",
        "Given the observed values $X_0 = x_0$, $X_1 = x_1$, ..., $X_{m-1} = x_{m-1}$, the prior probability $P(S_0, S_1, \\ldots, S_{n-1})$ and the conditional probabilities $P(X_i \\mid S_0, S_1, \\ldots, S_{n-1})$ for $i \\in [0, n - 1]$, write a program to compute the most likely values for $S_0, S_1, \\ldots, S_{n-1}$. See an example of the input-output representation below.\n",
        "\n",
        "**Hint:** Using Bayes rule, you should be able to compute $P(S_0, \\ldots, S_{n-1} | X_0, \\ldots, X_{m - 1}) \\propto P(X_0 \\ldots X_{m-1} | S_0, \\ldots, S_{n-1}) P(S_0, \\ldots, S_{n-1})$. Now, $P(S_0, \\ldots, S_{n-1})$ has been given -- refer to the variable CPTS in the example below -- so you need to figure out what is $P(X_0 \\ldots X_{m-1} | S_0, \\ldots, S_{n-1})$ and this is where you want to make use of the given conditional independence above to compute $P(X_0 \\ldots X_{m-1} | S_0, \\ldots, S_{n-1})$ in terms of $P(X_i | S_0, \\ldots, S_{n-1})$ for $i = 0, 1, \\ldots, m - 1$ which have also been given -- refer to the variable CPT[i] in the example below."
      ],
      "metadata": {
        "id": "NufmSdPV9mwa"
      }
    },
    {
      "cell_type": "code",
      "source": [
        "from typing import Dict, List\n",
        "\n",
        "def inference(m: int, n: int, X: List, Ps: Dict[str, float], Pxs: Dict[int, Dict[str, float]]) -> List[int] :\n",
        "  for i in range(2**n):\n",
        "    \n",
        "  # unnormalized posterior calculation\n",
        "  # use unnormalized to \n",
        "  return [0] * n  # replace this with the actual result "
      ],
      "metadata": {
        "id": "hcA-7xDdqQEz"
      },
      "execution_count": null,
      "outputs": []
    },
    {
      "cell_type": "markdown",
      "source": [
        "**Input Example**\n",
        "\n",
        "1. The prior probability $P(S_0, S_1, \\ldots, S_{n-1})$ is represented by a dictionary (with $2^n$ entries) mapping from a binary configuration of $(S_0, S_1, \\ldots, S_{n-1})$ to a number in $(0,1)$ -- see the CPTS dictionary below.\n",
        "2. Each conditional probability table $P(X_i = 1 \\mid S_0, S_1, \\ldots, S_{n-1})$ is represented by a dictionary (with $2^n$ entries) mapping from a binary configuration of $(S_0, S_1, \\ldots, S_{n-1})$ to $(0, 1)$, reflecting the conditional likelihood of $X_i = 1$ -- see the CPT[i] dictionary in the example below."
      ],
      "metadata": {
        "id": "zm04XIYgyPHI"
      }
    },
    {
      "cell_type": "code",
      "source": [
        "# n is the number of Ses?\n",
        "# m is the number of Xes (probably?)\n",
        "\n",
        "n, m = 3, 5\n",
        "# n = len('000')\n",
        "# m = len(X)\n",
        "\n",
        "X = [0, 0, 1, 0, 0]\n",
        "\n",
        "CPTS = {'000': 0.0029483374841282597, '001': 0.21655975865243066, '010': 0.009741791658102511, '011': 0.004396416434820812, '100': 0.14690857953281578, '101': 0.10442964963947308, '110': 0.09244430850469733, '111': 0.4225711580935315}  # P(S)\n",
        "CPT = {}\n",
        "\n",
        "CPT[0] = {'000': 0.2030970506369712, '001': 0.3488898852352653, '010': 0.5502799534069687, '011': 0.8116780058398033, '100': 0.8780276292367954, '101': 0.13639853016162218, '110': 0.25494090105549916, '111': 0.17343975131249711} # P(X_0 = 1 | S)\n",
        "CPT[1] = {'000': 0.3523359812177728, '001': 0.5084318707330855, '010': 0.8889353192318028, '011': 0.5192775644869685, '100': 0.22672669454081784, '101': 0.5803945046731775, '110': 0.5186851363449407, '111': 0.563088061119118} # P(X_1 = 1 | S)\n",
        "CPT[2] = {'000': 0.7560448918465935, '001': 0.6591799512712302, '010': 0.803089150479506, '011': 0.32072656535528443, '100': 0.9017673321979113, '101': 0.21612230050596615, '110': 0.3970404367134218, '111': 0.30886041650786145} # P(X_2 = 1 | S)\n",
        "CPT[3] = {'000': 0.407051181263091, '001': 0.9360805132893405, '010': 0.1723367416994004, '011': 0.6788601067797836, '100': 0.15069804971864342, '101': 0.11500243160128079, '110': 0.440577342376775, '111': 0.467228843959817} # P(X_3 = 1 | S)\n",
        "CPT[4] = {'000': 0.22235699425981859, '001': 0.8058219255695106, '010': 0.9005755426968436, '011': 0.22563339748467282, '100': 0.18785985930345855, '101': 0.5069987371763072, '110': 0.7447588081219547, '111': 0.6663412077070303} # P(X_4 = 1 | S)\n"
      ],
      "metadata": {
        "id": "IuztAlhjzkB6"
      },
      "execution_count": null,
      "outputs": []
    },
    {
      "cell_type": "code",
      "source": [
        "print(CPT[0]['001'])"
      ],
      "metadata": {
        "colab": {
          "base_uri": "https://localhost:8080/"
        },
        "id": "uDrvLn9fQhQk",
        "outputId": "aa3d9afa-4dfa-4bb5-b43a-0d6d699cfa7b"
      },
      "execution_count": null,
      "outputs": [
        {
          "output_type": "stream",
          "name": "stdout",
          "text": [
            "0.3488898852352653\n"
          ]
        }
      ]
    },
    {
      "cell_type": "code",
      "source": [
        "import numpy as np\n",
        "import itertools\n",
        "\n",
        "#n = 3\n",
        "#m = 5\n",
        "\n",
        "#X = [0, 0, 1, 0, 0]\n",
        "\n",
        "\n",
        "\n",
        "from typing import Dict, List\n",
        "\n",
        "def inference(m: int, n: int, X: List, Ps: Dict[str, float], Pxs: Dict[int, Dict[str, float]]):\n",
        "    # generate all possible states of the system\n",
        "    all_possible_S = [format(i, '0{}b'.format(n)) for i in range(2**n)]\n",
        "    #all_possible_S = [format(i, f\"0{n}b\") for i in range(2**n)]\n",
        "    #print(all_possible_S)\n",
        "\n",
        "    # compute likelihoods of observed data X given S\n",
        "    P_X_given_S = np.zeros((m, 2**n)) #(5, 23)\n",
        "    #print(P_X_given_S.shape)\n",
        "\n",
        "    #print(Pxs[1]['001'])\n",
        "    for i in range(m):\n",
        "        for j in range(2**n):\n",
        "           #P_X_given_S[i][j] = CPT[i][all_possible_S[j]] if X[i] == 1 else 1 - CPT[i][all_possible_S[j]]\n",
        "           value = Pxs[i][all_possible_S[j]]\n",
        "           P_X_given_S[i][j] = value if X[i] == 1 else 1 - value\n",
        "\n",
        "\n",
        "    #print(P_X_given_S)\n",
        " \n",
        "    # compute posterior probability distribution over S\n",
        "    P_S_given_X = np.zeros(2**n) # 2n # [0. 0. 0. 0. 0. 0. 0. 0.]\n",
        "    #print(len(P_S_given_X))\n",
        "\n",
        "    #print(P_X_given_S[:, 2, :]) # output:  [[0.79690295], [0.64766402], [0.75604489], [0.59294882], [0.77764301]]\n",
        "    #print(np.prod(P_X_given_S[:, i, :], axis=0)) # [0.05866541]\n",
        "\n",
        "\n",
        "    # formula P(S|X) = P(X|S) * P(S) / sum(P_S_given_X)\n",
        "    for i, s in enumerate(all_possible_S): #0-8\n",
        "        #likelihood = 1\n",
        "        #for j in range(m): #0-5\n",
        "        #    likelihood = P_X_given_S[j][i]\n",
        "        #print(likelihood)\n",
        "        #likelihood = np.prod(P_X_given_S[:, i, :], axis=0) # Return the product of array elements over a given axis.\n",
        "        likelihood = np.prod(P_X_given_S[:, i], axis=0)\n",
        "        #print(likelihood)\n",
        "        P_S_given_X[i] = likelihood * Ps[all_possible_S[i]]\n",
        "    P_S_given_X /= np.sum(P_S_given_X)\n",
        "\n",
        "    # find most likely values of S\n",
        "    S_star = all_possible_S[np.argmax(P_S_given_X)]\n",
        "\n",
        "\n",
        "    # return S_star\n",
        "    # format output\n",
        "    return [int(i) for i in S_star]\n"
      ],
      "metadata": {
        "id": "fK0sMnvx5Pxa"
      },
      "execution_count": null,
      "outputs": []
    },
    {
      "cell_type": "code",
      "source": [
        "X = [1,1,1,1,1]"
      ],
      "metadata": {
        "id": "sHmZTtoZSJNc"
      },
      "execution_count": null,
      "outputs": []
    },
    {
      "cell_type": "code",
      "source": [
        "S_star = inference(m, n, X, CPTS, CPT)\n",
        "print(\"Result: \", S_star)"
      ],
      "metadata": {
        "colab": {
          "base_uri": "https://localhost:8080/"
        },
        "id": "e-6dMWXH5liM",
        "outputId": "250a4e5d-d18c-45c6-d3b4-8aafbea02dcb"
      },
      "execution_count": null,
      "outputs": [
        {
          "output_type": "stream",
          "name": "stdout",
          "text": [
            "Result:  [0, 0, 1]\n"
          ]
        }
      ]
    },
    {
      "cell_type": "code",
      "source": [
        "res = [1, 0, 0]  # expected output of the above input"
      ],
      "metadata": {
        "id": "2poL6QGbUVxs"
      },
      "execution_count": null,
      "outputs": []
    },
    {
      "cell_type": "code",
      "source": [
        "import unittest\n",
        "\n",
        "class TestProblem4(unittest.TestCase):\n",
        "  \n",
        "\n",
        "  def test_1(self):\n",
        "    n = 3\n",
        "    m = 5\n",
        "    X = [1, 1, 0, 1, 0]\n",
        "    self.assertEqual(inference(m, n, X, CPTS, CPT), [1,1,1])\n",
        "\n",
        "  def test_2(self):\n",
        "    n = 3\n",
        "    m = 5\n",
        "    X = [0, 0, 0, 0, 0]\n",
        "    self.assertEqual(inference(m, n, X, CPTS, CPT), [1,1,1])\n",
        "\n",
        "\n",
        "  def test_3(self):\n",
        "    n = 3\n",
        "    m = 5\n",
        "    X = [1,1,1,1,1]\n",
        "    self.assertEqual(inference(m, n, X, CPTS, CPT), [0,0,1])\n",
        "\n",
        "\n",
        "suite = unittest.TestLoader().loadTestsFromTestCase(TestProblem4)\n",
        "unittest.TextTestRunner(verbosity=2).run(suite)"
      ],
      "metadata": {
        "colab": {
          "base_uri": "https://localhost:8080/"
        },
        "id": "km-qhba1oOv3",
        "outputId": "474219c9-33ad-46d9-bac2-dc9cb1ecf54e"
      },
      "execution_count": null,
      "outputs": [
        {
          "output_type": "stream",
          "name": "stderr",
          "text": [
            "test_1 (__main__.TestProblem4) ... ok\n",
            "test_2 (__main__.TestProblem4) ... ok\n",
            "test_3 (__main__.TestProblem4) ... ok\n",
            "\n",
            "----------------------------------------------------------------------\n",
            "Ran 3 tests in 0.018s\n",
            "\n",
            "OK\n"
          ]
        },
        {
          "output_type": "execute_result",
          "data": {
            "text/plain": [
              "<unittest.runner.TextTestResult run=3 errors=0 failures=0>"
            ]
          },
          "metadata": {},
          "execution_count": 43
        }
      ]
    },
    {
      "cell_type": "markdown",
      "source": [
        "**How we grade this question:**\n",
        "\n",
        "1. You are expected to substantiate the above **inference** function without changing its input and output definition. \n",
        "\n",
        "2. You will not be graded if you change the input-output definition or name of **inference**\n",
        "\n",
        "3. Your substantiated **inference** function will be called by the TA to produce answers to a number of test cases. Your grade is computed based on how many cases your code answers correctly.\n",
        "\n",
        "4. Substantiating the code does not necessarily guarantee you any partial credit if your **inference** function crashes, does not produce correct answer or fails to do so within the time limit of maximum 5 seconds per test case.\n",
        "\n",
        "5. You should test your code thoroughly and carefully before submitting it to make sure it will not crash and at least produce correct answers for your own test cases."
      ],
      "metadata": {
        "id": "aMglndSlXBIL"
      }
    },
    {
      "cell_type": "code",
      "source": [],
      "metadata": {
        "id": "Ci5E6fWIgea0"
      },
      "execution_count": null,
      "outputs": []
    }
  ]
}